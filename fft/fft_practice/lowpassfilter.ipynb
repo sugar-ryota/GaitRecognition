{
 "cells": [
  {
   "cell_type": "code",
   "execution_count": 1,
   "metadata": {},
   "outputs": [],
   "source": [
    "import numpy as np\n",
    "import cv2"
   ]
  },
  {
   "cell_type": "code",
   "execution_count": 13,
   "metadata": {},
   "outputs": [],
   "source": [
    "def lowpass_filter(src, a=0.5):\n",
    "    # 高速フーリエ変換(2次元)\n",
    "    src = np.fft.fft2(src)\n",
    "    \n",
    "    # 画像サイズ\n",
    "    h, w = src.shape\n",
    "   \n",
    "    # 画像の中心座標\n",
    "    cy, cx =  int(h/2), int(w/2)\n",
    "    \n",
    "    # フィルタのサイズ(矩形の高さと幅)\n",
    "    rh, rw = int(a*cy), int(a*cx)\n",
    "\n",
    "    # 第1象限と第3象限、第1象限と第4象限を入れ替え\n",
    "    fsrc =  np.fft.fftshift(src)\n",
    "\n",
    "    # 入力画像と同じサイズで値0の配列を生成\n",
    "    fdst = np.zeros(src.shape, dtype=complex)\n",
    "\n",
    "    # 中心部分の値だけ代入（中心部分以外は0のまま）\n",
    "    fdst[cy-rh:cy+rh, cx-rw:cx+rw] = fsrc[cy-rh:cy+rh, cx-rw:cx+rw]\n",
    "    \n",
    "    # 第1象限と第3象限、第1象限と第4象限を入れ替え(元に戻す)\n",
    "    fdst =  np.fft.fftshift(fdst)\n",
    "\n",
    "    # 高速逆フーリエ変換 \n",
    "    dst = np.fft.ifft2(fdst)\n",
    "   \n",
    "    # 実部の値のみを取り出し、符号なし整数型に変換して返す\n",
    "    return  np.uint8(dst.real)"
   ]
  },
  {
   "cell_type": "code",
   "execution_count": 17,
   "metadata": {},
   "outputs": [],
   "source": [
    "def main():\n",
    "    # 入力画像を読み込み\n",
    "    img = cv2.imread(\"00000001.png\")\n",
    "\n",
    "    # グレースケール変換\n",
    "    gray = cv2.cvtColor(img, cv2.COLOR_RGB2GRAY)\n",
    "\n",
    "    # ローパスフィルタ処理\n",
    "    himg = lowpass_filter(gray, 0.5)\n",
    "\n",
    "    # 処理結果を出力\n",
    "    cv2.imwrite(\"output.png\", himg)\n",
    "\n",
    "if __name__ == \"__main__\":\n",
    "    main()"
   ]
  },
  {
   "cell_type": "code",
   "execution_count": null,
   "metadata": {},
   "outputs": [],
   "source": []
  }
 ],
 "metadata": {
  "kernelspec": {
   "display_name": "Python 3.8.12 ('sato')",
   "language": "python",
   "name": "python3"
  },
  "language_info": {
   "codemirror_mode": {
    "name": "ipython",
    "version": 3
   },
   "file_extension": ".py",
   "mimetype": "text/x-python",
   "name": "python",
   "nbconvert_exporter": "python",
   "pygments_lexer": "ipython3",
   "version": "3.8.12"
  },
  "orig_nbformat": 4,
  "vscode": {
   "interpreter": {
    "hash": "937e3f87277f1bede9635089219065cb0b6ab075f522d1e6e399ab2727c0bc21"
   }
  }
 },
 "nbformat": 4,
 "nbformat_minor": 2
}
